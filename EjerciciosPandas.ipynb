{
 "cells": [
  {
   "cell_type": "markdown",
   "metadata": {},
   "source": [
    "Se necesita crear un registro que contenga las temperaturas promedio de una ciudad durante 7 días. La serie debe incluir los días de la semana como índice y las \n",
    "temperaturas como valores. Luego, calcula la temperatura promedio de la semana."
   ]
  },
  {
   "cell_type": "code",
   "execution_count": 5,
   "metadata": {},
   "outputs": [],
   "source": [
    "import pandas as pd"
   ]
  },
  {
   "cell_type": "code",
   "execution_count": 8,
   "metadata": {},
   "outputs": [],
   "source": [
    "temperaturas = pd.Series(\n",
    "[25, 28, 30, 27, 26, 29, 31],\n",
    "    index=[\"Lunes\", \"Martes\", \"Miércoles\", \"Jueves\", \"Viernes\", \"Sábado\", \"Domingo\"]\n",
    ")\n"
   ]
  },
  {
   "cell_type": "code",
   "execution_count": 13,
   "metadata": {},
   "outputs": [
    {
     "name": "stdout",
     "output_type": "stream",
     "text": [
      "El promedio de temperatura esta semana es:  28.0 °C\n"
     ]
    }
   ],
   "source": [
    "promedio = temperaturas.mean()\n",
    "print(\"El promedio de temperatura esta semana es: \", round(promedio, 2), \"°C\")"
   ]
  },
  {
   "cell_type": "markdown",
   "metadata": {},
   "source": [
    "Crea una serie que represente el inventario de una tienda, donde el índice sea el nombre del producto y los valores sean la cantidad disponible en stock. Luego, filtra los productos que tienen menos de 10 unidades en stock."
   ]
  },
  {
   "cell_type": "code",
   "execution_count": 15,
   "metadata": {},
   "outputs": [],
   "source": [
    "inventario=pd.Series(\n",
    "    [10,2,5,12,1],\n",
    "    index=[\"Jamon\",\"Huevo\",\"Detergente\",\"Papas\",\"Cereal\"]\n",
    ")"
   ]
  },
  {
   "cell_type": "code",
   "execution_count": 23,
   "metadata": {},
   "outputs": [
    {
     "name": "stdout",
     "output_type": "stream",
     "text": [
      "Los productos con menos de 10 unidades son: \n",
      " Huevo         2\n",
      "Detergente    5\n",
      "Cereal        1\n",
      "dtype: int64\n"
     ]
    }
   ],
   "source": [
    "bajo_stock = inventario[inventario < 10]\n",
    "print(f\"Los productos con menos de 10 unidades son: \\n {bajo_stock}\")"
   ]
  },
  {
   "cell_type": "markdown",
   "metadata": {},
   "source": [
    "Genera una serie que contenga los precios de 5 productos diferentes. Luego, aplica un descuento del 15% a cada producto y muestra la serie actualizada."
   ]
  },
  {
   "cell_type": "code",
   "execution_count": 24,
   "metadata": {},
   "outputs": [],
   "source": [
    "productos=pd.Series(\n",
    "    [50,400,23,12,100],\n",
    "    index=[\"Jabon\",\"Caja cereal\",\"Barritas\",\"Gansito\",\"Agua\"]\n",
    ")"
   ]
  },
  {
   "cell_type": "code",
   "execution_count": 27,
   "metadata": {},
   "outputs": [
    {
     "name": "stdout",
     "output_type": "stream",
     "text": [
      "Los productos con descuento son: /n Jabon           42.50\n",
      "Caja cereal    340.00\n",
      "Barritas        19.55\n",
      "Gansito         10.20\n",
      "Agua            85.00\n",
      "dtype: float64\n"
     ]
    }
   ],
   "source": [
    "productos=productos-productos*0.15\n",
    "print(f\"Los productos con descuento son: /n {productos}\")"
   ]
  },
  {
   "cell_type": "markdown",
   "metadata": {},
   "source": [
    "Crea una serie que almacene las calificaciones de 10 estudiantes en un examen. El índice debe ser el nombre del estudiante. Encuentra la calificación más alta y la más baja."
   ]
  },
  {
   "cell_type": "code",
   "execution_count": 29,
   "metadata": {},
   "outputs": [],
   "source": [
    "calificaciones=pd.Series(\n",
    "    {\"Maria\":8,\n",
    "     \"Angie\":10,\n",
    "     \"Oscar\":7,\n",
    "     \"Fernando\":9,\n",
    "     \"Alberto\":8,\n",
    "     \"Sebastian\":8,\n",
    "     \"Cinthia\": 10,\n",
    "     \"Carlos\":10,\n",
    "     \"Lola\":5,\n",
    "     \"Sofia\":6,\n",
    "     }\n",
    ")"
   ]
  },
  {
   "cell_type": "code",
   "execution_count": 31,
   "metadata": {},
   "outputs": [
    {
     "name": "stdout",
     "output_type": "stream",
     "text": [
      "La calificacion menor es 5\n"
     ]
    }
   ],
   "source": [
    "print(f\"La calificacion menor es {calificaciones.min()}\")"
   ]
  },
  {
   "cell_type": "code",
   "execution_count": 32,
   "metadata": {},
   "outputs": [
    {
     "name": "stdout",
     "output_type": "stream",
     "text": [
      "La calificacion mayor es 10\n"
     ]
    }
   ],
   "source": [
    "print(f\"La calificacion mayor es {calificaciones.max()}\")"
   ]
  }
 ],
 "metadata": {
  "kernelspec": {
   "display_name": "Python 3",
   "language": "python",
   "name": "python3"
  },
  "language_info": {
   "codemirror_mode": {
    "name": "ipython",
    "version": 3
   },
   "file_extension": ".py",
   "mimetype": "text/x-python",
   "name": "python",
   "nbconvert_exporter": "python",
   "pygments_lexer": "ipython3",
   "version": "3.13.2"
  }
 },
 "nbformat": 4,
 "nbformat_minor": 2
}
